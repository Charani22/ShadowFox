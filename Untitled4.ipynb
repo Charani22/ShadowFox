{
 "cells": [
  {
   "cell_type": "code",
   "execution_count": 2,
   "id": "b077530b-1ff8-4b39-b7f4-e953e2ae9786",
   "metadata": {},
   "outputs": [
    {
     "name": "stdout",
     "output_type": "stream",
     "text": [
      "<class 'float'>\n"
     ]
    }
   ],
   "source": [
    "pi=22/7\n",
    "print(type(pi))"
   ]
  },
  {
   "cell_type": "markdown",
   "id": "0f8e640f-2c52-423f-a8bc-31490daae002",
   "metadata": {},
   "source": [
    "for=4\n",
    "syntax error\n",
    "due to for is a reserved keyword in python"
   ]
  },
  {
   "cell_type": "code",
   "execution_count": 4,
   "id": "4628a1a7-e06b-4af5-8d12-8fe4966406ea",
   "metadata": {},
   "outputs": [
    {
     "name": "stdout",
     "output_type": "stream",
     "text": [
      "the simple interest is:150.0\n"
     ]
    }
   ],
   "source": [
    "principal_amount=1000\n",
    "rate_of_interest=5\n",
    "time=3\n",
    "simple_interest=(principal_amount*rate_of_interest*time)/100\n",
    "print(f\"the simple interest is:{simple_interest}\")"
   ]
  },
  {
   "cell_type": "code",
   "execution_count": 5,
   "id": "7732a3b1-3149-444d-ba87-bfe83a3d8c8c",
   "metadata": {},
   "outputs": [
    {
     "name": "stdout",
     "output_type": "stream",
     "text": [
      "221\n"
     ]
    }
   ],
   "source": [
    "def format_number(num,fmt_char):\n",
    "    return format(num,fmt_char)\n",
    "result=format_number(145,'o')\n",
    "print(result)"
   ]
  },
  {
   "cell_type": "code",
   "execution_count": null,
   "id": "ae3f5e68-22b2-45d8-9d83-c144f405cd98",
   "metadata": {},
   "outputs": [],
   "source": [
    "octal representation used"
   ]
  },
  {
   "cell_type": "code",
   "execution_count": 9,
   "id": "f1a5dc4d-7f2f-4daf-8bb5-3d62a5f5bf48",
   "metadata": {},
   "outputs": [
    {
     "name": "stdout",
     "output_type": "stream",
     "text": [
      "area of the pond: 22155.84 square meters\n",
      "total water in the pond : 31018 liters\n"
     ]
    }
   ],
   "source": [
    "radius=84\n",
    "pi=3.14\n",
    "water_per_sq_meter = 1.4\n",
    "area=pi*radius**2\n",
    "total_water = area*water_per_sq_meter\n",
    "print(\"area of the pond:\",area,\"square meters\")\n",
    "print(\"total water in the pond :\",int(total_water),\"liters\")"
   ]
  },
  {
   "cell_type": "markdown",
   "id": "8ec84ecd-26bd-45e7-a9d5-f1313dd6cb6f",
   "metadata": {},
   "source": [
    "\n"
   ]
  },
  {
   "cell_type": "code",
   "execution_count": 10,
   "id": "067a860a-acc2-4ef3-941d-7dcbd800f894",
   "metadata": {},
   "outputs": [
    {
     "name": "stdout",
     "output_type": "stream",
     "text": [
      "1 meters per second\n"
     ]
    }
   ],
   "source": [
    "distance=490\n",
    "time_minutes=7\n",
    "time_seconds=time_minutes*60\n",
    "speed=distance/time_seconds\n",
    "print(int(speed),\"meters per second\")\n",
    "\n"
   ]
  },
  {
   "cell_type": "code",
   "execution_count": 1,
   "id": "1c750dee-bb1b-460b-8ffc-9d1f8c9733a7",
   "metadata": {},
   "outputs": [
    {
     "name": "stdout",
     "output_type": "stream",
     "text": [
      "Initial Justice League: ['Superman', 'Batman', 'Wonder Woman', 'Flash', 'Aquaman', 'Green Lantern']\n",
      "Number of members in the Justice League: 6\n",
      "After adding new members: ['Superman', 'Batman', 'Wonder Woman', 'Flash', 'Aquaman', 'Green Lantern', 'Batgirl', 'Nightwing']\n",
      "After moving Wonder Woman to the beginning: ['Wonder Woman', 'Superman', 'Batman', 'Flash', 'Aquaman', 'Green Lantern', 'Batgirl', 'Nightwing']\n",
      "After separating Aquaman and Flash: ['Wonder Woman', 'Superman', 'Batman', 'Flash', 'Green Lantern', 'Aquaman', 'Batgirl', 'Nightwing']\n",
      "After replacing with a new team: ['Cyborg', 'Shazam', 'Hawkgirl', 'Martian Manhunter', 'Green Arrow']\n",
      "After sorting the list alphabetically: ['Cyborg', 'Green Arrow', 'Hawkgirl', 'Martian Manhunter', 'Shazam']\n",
      "The new leader (hero at the 0th index) is: Cyborg\n"
     ]
    }
   ],
   "source": [
    "justice_league = [\"Superman\", \"Batman\", \"Wonder Woman\", \"Flash\", \"Aquaman\", \"Green Lantern\"]\n",
    "print(\"Initial Justice League:\", justice_league)\n",
    "print(f\"Number of members in the Justice League: {len(justice_league)}\")\n",
    "new_members = [\"Batgirl\", \"Nightwing\"]\n",
    "justice_league.extend(new_members)\n",
    "print(\"After adding new members:\", justice_league)\n",
    "justice_league.remove(\"Wonder Woman\")\n",
    "justice_league.insert(0, \"Wonder Woman\")\n",
    "print(\"After moving Wonder Woman to the beginning:\", justice_league)\n",
    "index_aquaman = justice_league.index(\"Aquaman\")\n",
    "index_flash = justice_league.index(\"Flash\")\n",
    "index_green_lantern = justice_league.index(\"Green Lantern\")\n",
    "justice_league.pop(index_green_lantern)\n",
    "if index_aquaman < justice_league.index(\"Flash\"):\n",
    "    insertion_point = justice_league.index(\"Flash\")\n",
    "else:\n",
    "    insertion_point = justice_league.index(\"Aquaman\")\n",
    "justice_league.insert(insertion_point, \"Green Lantern\")\n",
    "print(\"After separating Aquaman and Flash:\", justice_league)\n",
    "justice_league = [\"Cyborg\", \"Shazam\", \"Hawkgirl\", \"Martian Manhunter\", \"Green Arrow\"]\n",
    "print(\"After replacing with a new team:\", justice_league)\n",
    "justice_league.sort()\n",
    "print(\"After sorting the list alphabetically:\", justice_league)\n",
    "print(f\"The new leader (hero at the 0th index) is: {justice_league[0]}\")"
   ]
  },
  {
   "cell_type": "code",
   "execution_count": 1,
   "id": "e189981e-f076-4b2f-af07-48127b40afae",
   "metadata": {},
   "outputs": [
    {
     "name": "stdin",
     "output_type": "stream",
     "text": [
      "Enter height in meters:  1.75\n",
      "Enter weight in kilograms:  70\n"
     ]
    },
    {
     "name": "stdout",
     "output_type": "stream",
     "text": [
      "BMI: 22.86\n",
      "Category: Normal\n"
     ]
    }
   ],
   "source": [
    "height = float(input(\"Enter height in meters: \"))\n",
    "weight = float(input(\"Enter weight in kilograms: \"))\n",
    "bmi = weight / (height ** 2)\n",
    "if bmi >= 30:\n",
    "    category = \"Obesity\"\n",
    "elif bmi >= 25:\n",
    "    category = \"Overweight\"\n",
    "elif bmi >= 18.5:\n",
    "    category = \"Normal\"\n",
    "else:\n",
    "    category = \"Underweight\"\n",
    "print(\"BMI:\", round(bmi, 2))\n",
    "print(\"Category:\", category)"
   ]
  },
  {
   "cell_type": "code",
   "execution_count": 3,
   "id": "90500ad9-c1c8-415f-8175-a18a5ec1fe7e",
   "metadata": {},
   "outputs": [
    {
     "name": "stdin",
     "output_type": "stream",
     "text": [
      "Enter a city name:  Bangalore\n"
     ]
    },
    {
     "name": "stdout",
     "output_type": "stream",
     "text": [
      "Bangalore is in India\n"
     ]
    }
   ],
   "source": [
    "australia = [\"Sydney\", \"Melbourne\", \"Brisbane\", \"Perth\"]\n",
    "uae = [\"Dubai\", \"Abu Dhabi\", \"Sharjah\", \"Ajman\"]\n",
    "india = [\"Mumbai\", \"Bangalore\", \"Chennai\", \"Delhi\"]\n",
    "city = input(\"Enter a city name: \").strip()\n",
    "if city in australia:\n",
    "    print(f\"{city} is in Australia\")\n",
    "elif city in uae:\n",
    "    print(f\"{city} is in UAE\")\n",
    "elif city in india:\n",
    "    print(f\"{city} is in India\")\n",
    "else:\n",
    "    print(f\"Sorry, I don't know which country {city} belongs to.\")"
   ]
  },
  {
   "cell_type": "code",
   "execution_count": 4,
   "id": "61ce095a-ffe1-4417-98da-656ed6279a39",
   "metadata": {},
   "outputs": [
    {
     "name": "stdin",
     "output_type": "stream",
     "text": [
      "Enter the first city:  Delhi\n",
      "Enter the second city:  Delhi\n"
     ]
    },
    {
     "name": "stdout",
     "output_type": "stream",
     "text": [
      "Both cities are in India\n"
     ]
    }
   ],
   "source": [
    "australia = [\"Sydney\", \"Melbourne\", \"Brisbane\", \"Perth\"]\n",
    "uae = [\"Dubai\", \"Abu Dhabi\", \"Sharjah\", \"Ajman\"]\n",
    "india = [\"Mumbai\", \"Bangalore\", \"Chennai\", \"Delhi\"]\n",
    "city1 = input(\"Enter the first city: \").strip()\n",
    "city2 = input(\"Enter the second city: \").strip()\n",
    "def find_country(city):\n",
    "    if city in australia:\n",
    "        return \"Australia\"\n",
    "    elif city in uae:\n",
    "        return \"UAE\"\n",
    "    elif city in india:\n",
    "        return \"India\"\n",
    "    else:\n",
    "        return None\n",
    "country1 = find_country(city1)\n",
    "country2 = find_country(city2)\n",
    "if country1 and country2:\n",
    "    if country1 == country2:\n",
    "        print(f\"Both cities are in {country1}\")\n",
    "    else:\n",
    "        print(\"They don't belong to the same country\")\n",
    "else:\n",
    "    print(\"One or both cities are not in the list\")"
   ]
  },
  {
   "cell_type": "code",
   "execution_count": 1,
   "id": "89972657-9aab-43d1-92ab-4491d739a925",
   "metadata": {},
   "outputs": [
    {
     "name": "stdout",
     "output_type": "stream",
     "text": [
      "Roll 1: 5\n",
      "Roll 2: 2\n",
      "Roll 3: 4\n",
      "Roll 4: 4\n",
      "Roll 5: 3\n",
      "Roll 6: 2\n",
      "Roll 7: 2\n",
      "Roll 8: 6\n",
      "Roll 9: 2\n",
      "Roll 10: 5\n",
      "Roll 11: 5\n",
      "Roll 12: 4\n",
      "Roll 13: 6\n",
      "Roll 14: 2\n",
      "Roll 15: 5\n",
      "Roll 16: 5\n",
      "Roll 17: 6\n",
      "Roll 18: 2\n",
      "Roll 19: 6\n",
      "Roll 20: 6\n",
      "\n",
      "Statistics:\n",
      "Number of times rolled a 6: 5\n",
      "Number of times rolled a 1: 0\n",
      "Number of times rolled two 6's in a row:1\n"
     ]
    }
   ],
   "source": [
    "import random\n",
    "\n",
    "count_6 = 0\n",
    "count_1 = 0\n",
    "count_two_6s_in_a_row = 0\n",
    "\n",
    "previous_roll = None\n",
    "for i in range(20):\n",
    "    roll = random.randint(1, 6)\n",
    "    print(f\"Roll {i+1}: {roll}\")\n",
    "    if roll == 6:\n",
    "        count_6 += 1\n",
    "        if previous_roll == 6:\n",
    "            count_two_6s_in_a_row += 1\n",
    "    if roll == 1:\n",
    "        count_1 += 1\n",
    "\n",
    "    previous_roll = roll\n",
    "print(\"\\nStatistics:\")\n",
    "print(f\"Number of times rolled a 6: {count_6}\")\n",
    "print(f\"Number of times rolled a 1: {count_1}\")\n",
    "print(f\"Number of times rolled two 6's in a row:{count_two_6s_in_a_row}\")\n",
    "      "
   ]
  },
  {
   "cell_type": "code",
   "execution_count": 2,
   "id": "b2019276-9e9f-443f-a1a3-0db09c83afc0",
   "metadata": {},
   "outputs": [
    {
     "name": "stdout",
     "output_type": "stream",
     "text": [
      "You have done 10 jumping jacks.\n"
     ]
    },
    {
     "name": "stdin",
     "output_type": "stream",
     "text": [
      "Are you tired? (yes/no):  yes\n",
      "Do you want to skip the remaining sets? (yes/no):  yes\n"
     ]
    },
    {
     "name": "stdout",
     "output_type": "stream",
     "text": [
      "You completed a total of 10 jumping jacks.\n"
     ]
    }
   ],
   "source": [
    "total_jacks = 100\n",
    "done_jacks = 0\n",
    "set_size = 10\n",
    "\n",
    "while done_jacks < total_jacks:\n",
    "    done_jacks += set_size\n",
    "    print(f\"You have done {done_jacks} jumping jacks.\")\n",
    "    if done_jacks >= total_jacks:\n",
    "        print(\"Congratulations! You completed the workout.\")\n",
    "        break\n",
    "    tired = input(\"Are you tired? (yes/no): \").strip().lower()\n",
    "\n",
    "    if tired in [\"yes\", \"y\"]:\n",
    "        skip = input(\"Do you want to skip the remaining sets? (yes/no): \").strip().lower()\n",
    "        if skip in [\"yes\", \"y\"]:\n",
    "            print(f\"You completed a total of {done_jacks} jumping jacks.\")\n",
    "            break\n",
    "        else:\n",
    "            print(f\"{total_jacks - done_jacks} jumping jacks are remaining.\")\n",
    "    else:\n",
    "        print(f\"{total_jacks - done_jacks} jumping jacks are remaining.\")"
   ]
  },
  {
   "cell_type": "code",
   "execution_count": null,
   "id": "79e54b16-39d2-439e-a750-98eb8526db34",
   "metadata": {},
   "outputs": [],
   "source": []
  }
 ],
 "metadata": {
  "kernelspec": {
   "display_name": "Python 3 (ipykernel)",
   "language": "python",
   "name": "python3"
  },
  "language_info": {
   "codemirror_mode": {
    "name": "ipython",
    "version": 3
   },
   "file_extension": ".py",
   "mimetype": "text/x-python",
   "name": "python",
   "nbconvert_exporter": "python",
   "pygments_lexer": "ipython3",
   "version": "3.12.7"
  }
 },
 "nbformat": 4,
 "nbformat_minor": 5
}
